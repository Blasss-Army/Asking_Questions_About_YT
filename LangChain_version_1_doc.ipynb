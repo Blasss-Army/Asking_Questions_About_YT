{
 "cells": [
  {
   "cell_type": "markdown",
   "metadata": {},
   "source": [
    "# LangChaing version: Questions from YT transcript video"
   ]
  },
  {
   "cell_type": "code",
   "execution_count": 1,
   "metadata": {},
   "outputs": [],
   "source": [
    "import os\n",
    "import openai\n",
    "import sys\n",
    "sys.path.append('../..')\n",
    "from openai import AzureOpenAI\n",
    "from dotenv import load_dotenv, find_dotenv\n",
    "\n",
    "_ = load_dotenv(find_dotenv()) # read local .env file\n",
    "\n",
    "\n",
    "AZURE_OPENAI_ENDPOINT_GPT = os.getenv('AZURE_OPENAI_ENDPOINT_GPT')\n",
    "AZURE_OPENAI_ENDPOINT_EMBEDDING = os.getenv('AZURE_OPENAI_ENDPOINT_EMBEDDING')\n",
    "AZURE_OPENAI_API_KEY = os.getenv('AZURE_OPENAI_API_KEY')\n",
    "AZURE_OPENAI_API_VERSION = os.getenv('AZURE_OPENAI_API_VERSION')\n",
    "OPENAI_MODEL_NAME = os.getenv('OPENAI_MODEL_NAME')\n",
    "OPENAI_GPT4_TURBO_ENGINE = os.getenv('OPENAI_GPT4_TURBO_ENGINE')"
   ]
  },
  {
   "cell_type": "markdown",
   "metadata": {},
   "source": [
    "### 1)Document loading"
   ]
  },
  {
   "cell_type": "code",
   "execution_count": 2,
   "metadata": {},
   "outputs": [],
   "source": [
    "from langchain_community.document_loaders import TextLoader\n",
    "text = 'Ramilla-Mauritania-1.txt'\n",
    "loader = TextLoader(text)\n",
    "pages = loader.load()\n",
    "x = pages[0].page_content"
   ]
  },
  {
   "cell_type": "markdown",
   "metadata": {},
   "source": [
    "### 2)Creating the model"
   ]
  },
  {
   "cell_type": "code",
   "execution_count": 3,
   "metadata": {},
   "outputs": [],
   "source": [
    "from langchain_openai import AzureChatOpenAI"
   ]
  },
  {
   "cell_type": "code",
   "execution_count": 5,
   "metadata": {},
   "outputs": [],
   "source": [
    "# To control the randomness and creativity of the generated\n",
    "# text by an LLM, use temperature = 0.0\n",
    "llm_model = 'gpt-4o'\n",
    "chat = AzureChatOpenAI(temperature=0.0, azure_deployment=llm_model, api_version='2024-02-15-preview',azure_endpoint = AZURE_OPENAI_ENDPOINT_GPT)\n"
   ]
  },
  {
   "cell_type": "markdown",
   "metadata": {},
   "source": [
    "Creating a template for the prompt, to repeatly use it"
   ]
  },
  {
   "cell_type": "code",
   "execution_count": 12,
   "metadata": {},
   "outputs": [],
   "source": [
    "template_string = \"\"\"Extrae los datos mas interesantes \\\n",
    "del texto delimitado por triple comas \\\n",
    ", el texto trata sobre el script de un video de YouTube llamado {youtube_video_name}\\\n",
    "el output debe ser un diccionario key valor \\\n",
    "text: ```{text}```\n",
    "\"\"\""
   ]
  },
  {
   "cell_type": "markdown",
   "metadata": {},
   "source": [
    "we need to create an instance of the class ChatPromptTemplate"
   ]
  },
  {
   "cell_type": "code",
   "execution_count": 13,
   "metadata": {},
   "outputs": [],
   "source": [
    "from langchain.prompts import ChatPromptTemplate\n",
    "\n",
    "prompt_template = ChatPromptTemplate.from_template(template_string)"
   ]
  },
  {
   "cell_type": "code",
   "execution_count": 14,
   "metadata": {},
   "outputs": [
    {
     "data": {
      "text/plain": [
       "PromptTemplate(input_variables=['text', 'youtube_video_name'], input_types={}, partial_variables={}, template='Extrae los datos mas interesantes del texto delimitado por triple comas , el texto trata sobre el script de un video de YouTube llamado {youtube_video_name}el output debe ser un diccionario key valor text: ```{text}```\\n')"
      ]
     },
     "execution_count": 14,
     "metadata": {},
     "output_type": "execute_result"
    }
   ],
   "source": [
    "prompt_template.messages[0].prompt"
   ]
  },
  {
   "cell_type": "code",
   "execution_count": 15,
   "metadata": {},
   "outputs": [
    {
     "data": {
      "text/plain": [
       "['text', 'youtube_video_name']"
      ]
     },
     "execution_count": 15,
     "metadata": {},
     "output_type": "execute_result"
    }
   ],
   "source": [
    "prompt_template.messages[0].prompt.input_variables"
   ]
  },
  {
   "cell_type": "markdown",
   "metadata": {},
   "source": [
    "Now we fille each variable in the template (text and youtube_video_name)"
   ]
  },
  {
   "cell_type": "code",
   "execution_count": 16,
   "metadata": {},
   "outputs": [],
   "source": [
    "# Style, which we want our sentence to be transformed\n",
    "youtube_transcript_text = x\n",
    "\n",
    "#Text, text we wanna transform to a specific style..\n",
    "youtube_vid_name = \"\"\"Ramilla de Aventuras en maurationa\\\n",
    "\"\"\""
   ]
  },
  {
   "cell_type": "code",
   "execution_count": 18,
   "metadata": {},
   "outputs": [],
   "source": [
    "# The custom message will generate the prompt and send it to a LLM model\n",
    "# to get a respond\n",
    "\n",
    "customer_messages = prompt_template.format_messages(\n",
    "                    text=youtube_transcript_text,\n",
    "                    youtube_video_name=youtube_vid_name)\n",
    "\n",
    "#print(customer_messages)"
   ]
  },
  {
   "cell_type": "markdown",
   "metadata": {},
   "source": [
    "Now, let´s call the LLM for the execution of the prompt template"
   ]
  },
  {
   "cell_type": "code",
   "execution_count": 19,
   "metadata": {},
   "outputs": [
    {
     "name": "stderr",
     "output_type": "stream",
     "text": [
      "/tmp/ipykernel_1587/4274786145.py:3: LangChainDeprecationWarning: The method `BaseChatModel.__call__` was deprecated in langchain-core 0.1.7 and will be removed in 1.0. Use :meth:`~invoke` instead.\n",
      "  customer_response = chat(customer_messages)\n"
     ]
    }
   ],
   "source": [
    "# Call the LLM to translate to the style of the customer message\n",
    "# We send the promt created, through \n",
    "customer_response = chat(customer_messages)"
   ]
  },
  {
   "cell_type": "code",
   "execution_count": 29,
   "metadata": {},
   "outputs": [],
   "source": [
    "#print(customer_response.content)"
   ]
  },
  {
   "cell_type": "markdown",
   "metadata": {},
   "source": [
    "Now let´s focus on Parsers, Parser is a class in LangChan that allows to specify how the output shuld be."
   ]
  },
  {
   "cell_type": "code",
   "execution_count": 25,
   "metadata": {},
   "outputs": [],
   "source": [
    "from langchain.output_parsers import ResponseSchema\n",
    "from langchain.output_parsers import StructuredOutputParser"
   ]
  },
  {
   "cell_type": "code",
   "execution_count": 27,
   "metadata": {},
   "outputs": [],
   "source": [
    "# We define the schema we want for the outputs, then we introduce them into a list. \n",
    "\n",
    "video_name_schema = ResponseSchema(name=\"video_name\",\n",
    "                             description=\"Cual es el nombre del video\\\n",
    "                                        de donde se esta extrayendo la información\\\n",
    "                                            en el caso de no estar presente la respuesta debe ser\\\n",
    "                                                'desconocido'\")\n",
    "video_interesting_facts_schema = ResponseSchema(name=\"interesting_facts\",\n",
    "                                      description=\"Debe ser una lista con todos los datos interesantes\\\n",
    "                                        que se puedan extraer del script del video.\")\n",
    "country_schema = ResponseSchema(name=\"pais\",\n",
    "                                    description=\"Cual es el nombre del pais que se visita en el video\\\n",
    "                                            en el caso de no estar presente la respuesta debe ser\\\n",
    "                                                'desconocido\")\n",
    "\n",
    "response_schemas = [video_name_schema, \n",
    "                    video_interesting_facts_schema,\n",
    "                    country_schema]"
   ]
  },
  {
   "cell_type": "code",
   "execution_count": 28,
   "metadata": {},
   "outputs": [
    {
     "name": "stdout",
     "output_type": "stream",
     "text": [
      "The output should be a markdown code snippet formatted in the following schema, including the leading and trailing \"```json\" and \"```\":\n",
      "\n",
      "```json\n",
      "{\n",
      "\t\"video_name\": string  // Cual es el nombre del video                                        de donde se esta extrayendo la información                                            en el caso de no estar presente la respuesta debe ser                                                'desconocido'\n",
      "\t\"interesting_facts\": string  // Debe ser una lista con todos los datos interesantes                                        que se puedan extraer del script del video.\n",
      "\t\"pais\": string  // Cual es el nombre del pais que se visita en el video                                            en el caso de no estar presente la respuesta debe ser                                                'desconocido\n",
      "}\n",
      "```\n"
     ]
    }
   ],
   "source": [
    "output_parser = StructuredOutputParser.from_response_schemas(response_schemas)\n",
    "format_instructions = output_parser.get_format_instructions()\n",
    "print(format_instructions)"
   ]
  },
  {
   "cell_type": "code",
   "execution_count": 35,
   "metadata": {},
   "outputs": [],
   "source": [
    "template_string_2 = \"\"\"Extrae los datos mas interesantes \\\n",
    "del texto delimitado por triple comas \\\n",
    ", el texto trata sobre el script de un video de YouTube llamado {youtube_video_name}\\\n",
    "el output debe ser un diccionario key valor \\\n",
    "text: ```{text}```\n",
    "\n",
    "{format_instructions}\n",
    "\"\"\"\n",
    "\n",
    "prompt = ChatPromptTemplate.from_template(template=template_string_2)\n",
    "\n",
    "messages = prompt.format_messages(text=x, \n",
    "                                youtube_video_name ='Ramilla de AVenturas mauritania',\n",
    "                                format_instructions=format_instructions)\n",
    "\n",
    "#We send the prompt to the LLM\n",
    "response = chat(messages)"
   ]
  },
  {
   "cell_type": "code",
   "execution_count": 36,
   "metadata": {},
   "outputs": [
    {
     "name": "stdout",
     "output_type": "stream",
     "text": [
      "```json\n",
      "{\n",
      "\t\"video_name\": \"Ramilla de AVenturas mauritania\",\n",
      "\t\"interesting_facts\": [\n",
      "\t\t\"La capital de Mauritania es Nouakchott.\",\n",
      "\t\t\"El tren del desierto, conocido como el tren del Sáhara, es una atracción importante.\",\n",
      "\t\t\"Mauritania es uno de los países menos visitados de África y del mundo.\",\n",
      "\t\t\"Los taxis en Nouakchott funcionan de manera informal, preguntando a los conductores si quieren llevarte.\",\n",
      "\t\t\"No hay rascacielos en Nouakchott.\",\n",
      "\t\t\"El mercado central de Nouakchott tiene mucha arena, similar a una playa.\",\n",
      "\t\t\"Muchos vendedores ambulantes son senegaleses y malienses.\",\n",
      "\t\t\"Los coches más comunes en Nouakchott son Toyota, aunque hay algunos Mercedes.\",\n",
      "\t\t\"La empresa minera que opera el tren del desierto tiene su sede en Nouakchott.\",\n",
      "\t\t\"El país es mayormente desierto, lo que dificulta la vida fuera de las ciudades.\",\n",
      "\t\t\"Nouakchott fue diseñada para 8,000 personas, pero la población creció debido a sequías en los años 70 y 80.\",\n",
      "\t\t\"El transporte público en Mauritania es caótico, con autobuses en mal estado.\",\n",
      "\t\t\"El puerto de pesca de Nouakchott es un lugar importante para la economía local.\",\n",
      "\t\t\"Mauritania fue el último país en abolir la esclavitud en 1981, y no fue un delito hasta 2007.\",\n",
      "\t\t\"Existen tres grupos étnicos principales en Mauritania: moros blancos, moros negros y grupos étnicos subsaharianos.\",\n",
      "\t\t\"El mercado de camellos es una atracción, aunque no siempre está lleno.\",\n",
      "\t\t\"El 30-40% de la población vive bajo el umbral de la pobreza.\",\n",
      "\t\t\"Las carreteras principales de Mauritania son simples y no están bien desarrolladas.\",\n",
      "\t\t\"Hay muchos controles policiales en las carreteras para garantizar la seguridad.\",\n",
      "\t\t\"Atar es una ciudad en el interior de Mauritania, conocida por su calor extremo.\",\n",
      "\t\t\"Las casas tradicionales en Mauritania están hechas de cañas y paja.\",\n",
      "\t\t\"Azougui es un oasis cerca de Atar, con vegetación y agua potable.\",\n",
      "\t\t\"El país ha mejorado en seguridad, pero sigue siendo considerado arriesgado para viajar.\"\n",
      "\t],\n",
      "\t\"pais\": \"Mauritania\"\n",
      "}\n",
      "```\n"
     ]
    }
   ],
   "source": [
    "print(response.content)"
   ]
  },
  {
   "cell_type": "code",
   "execution_count": 37,
   "metadata": {},
   "outputs": [],
   "source": [
    "# We parse the output into a dict \n",
    "\n",
    "output_dict = output_parser.parse(response.content)"
   ]
  },
  {
   "cell_type": "code",
   "execution_count": 38,
   "metadata": {},
   "outputs": [
    {
     "data": {
      "text/plain": [
       "{'video_name': 'Ramilla de AVenturas mauritania',\n",
       " 'interesting_facts': ['La capital de Mauritania es Nouakchott.',\n",
       "  'El tren del desierto, conocido como el tren del Sáhara, es una atracción importante.',\n",
       "  'Mauritania es uno de los países menos visitados de África y del mundo.',\n",
       "  'Los taxis en Nouakchott funcionan de manera informal, preguntando a los conductores si quieren llevarte.',\n",
       "  'No hay rascacielos en Nouakchott.',\n",
       "  'El mercado central de Nouakchott tiene mucha arena, similar a una playa.',\n",
       "  'Muchos vendedores ambulantes son senegaleses y malienses.',\n",
       "  'Los coches más comunes en Nouakchott son Toyota, aunque hay algunos Mercedes.',\n",
       "  'La empresa minera que opera el tren del desierto tiene su sede en Nouakchott.',\n",
       "  'El país es mayormente desierto, lo que dificulta la vida fuera de las ciudades.',\n",
       "  'Nouakchott fue diseñada para 8,000 personas, pero la población creció debido a sequías en los años 70 y 80.',\n",
       "  'El transporte público en Mauritania es caótico, con autobuses en mal estado.',\n",
       "  'El puerto de pesca de Nouakchott es un lugar importante para la economía local.',\n",
       "  'Mauritania fue el último país en abolir la esclavitud en 1981, y no fue un delito hasta 2007.',\n",
       "  'Existen tres grupos étnicos principales en Mauritania: moros blancos, moros negros y grupos étnicos subsaharianos.',\n",
       "  'El mercado de camellos es una atracción, aunque no siempre está lleno.',\n",
       "  'El 30-40% de la población vive bajo el umbral de la pobreza.',\n",
       "  'Las carreteras principales de Mauritania son simples y no están bien desarrolladas.',\n",
       "  'Hay muchos controles policiales en las carreteras para garantizar la seguridad.',\n",
       "  'Atar es una ciudad en el interior de Mauritania, conocida por su calor extremo.',\n",
       "  'Las casas tradicionales en Mauritania están hechas de cañas y paja.',\n",
       "  'Azougui es un oasis cerca de Atar, con vegetación y agua potable.',\n",
       "  'El país ha mejorado en seguridad, pero sigue siendo considerado arriesgado para viajar.'],\n",
       " 'pais': 'Mauritania'}"
      ]
     },
     "execution_count": 38,
     "metadata": {},
     "output_type": "execute_result"
    }
   ],
   "source": [
    "output_dict"
   ]
  },
  {
   "cell_type": "code",
   "execution_count": 20,
   "metadata": {},
   "outputs": [],
   "source": [
    "#! pip install python-docx"
   ]
  },
  {
   "cell_type": "markdown",
   "metadata": {},
   "source": [
    "Below is the code for saving each value extracted from the YT transcrip."
   ]
  },
  {
   "cell_type": "code",
   "execution_count": 41,
   "metadata": {},
   "outputs": [
    {
     "name": "stderr",
     "output_type": "stream",
     "text": [
      "/home/zeus/miniconda3/envs/cloudspace/lib/python3.10/site-packages/docx/styles/styles.py:130: UserWarning: style lookup by style_id is deprecated. Use style name as key instead.\n",
      "  return self._get_style_id_from_style(self[style_name], style_type)\n"
     ]
    }
   ],
   "source": [
    "from docx import Document\n",
    "\n",
    "# Create a new Document\n",
    "doc = Document()\n",
    "\n",
    "# Add a title\n",
    "doc.add_heading('Ramilla de Aventuras Mauritania_LangChain_Version', level=1)\n",
    "\n",
    "# Add a paragraph\n",
    "doc.add_paragraph('Resumen del video.')\n",
    "\n",
    "for i in list(output_dict.keys()):\n",
    "# Add a bullet point list\n",
    "    doc.add_paragraph(output_dict[i], style='ListBullet')\n",
    "\n",
    "\n",
    "# Save the document\n",
    "doc.save('Ramilla_mauritania_v2.docx')"
   ]
  }
 ],
 "metadata": {
  "language_info": {
   "name": "python"
  }
 },
 "nbformat": 4,
 "nbformat_minor": 2
}
