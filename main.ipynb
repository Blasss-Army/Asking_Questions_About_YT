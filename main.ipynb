{
 "cells": [
  {
   "cell_type": "markdown",
   "metadata": {},
   "source": [
    "#HELLO"
   ]
  },
  {
   "cell_type": "code",
   "execution_count": 1,
   "metadata": {},
   "outputs": [],
   "source": [
    "import os\n",
    "import openai\n",
    "import sys\n",
    "sys.path.append('../..')\n",
    "from openai import AzureOpenAI\n",
    "from dotenv import load_dotenv, find_dotenv\n",
    "\n",
    "_ = load_dotenv(find_dotenv()) # read local .env file\n",
    "\n",
    "\n",
    "AZURE_OPENAI_ENDPOINT_GPT = os.getenv('AZURE_OPENAI_ENDPOINT_GPT')\n",
    "AZURE_OPENAI_ENDPOINT_EMBEDDING = os.getenv('AZURE_OPENAI_ENDPOINT_EMBEDDING')\n",
    "AZURE_OPENAI_API_KEY = os.getenv('AZURE_OPENAI_API_KEY')\n",
    "AZURE_OPENAI_API_VERSION = os.getenv('AZURE_OPENAI_API_VERSION')\n",
    "OPENAI_MODEL_NAME = os.getenv('OPENAI_MODEL_NAME')\n",
    "OPENAI_GPT4_TURBO_ENGINE = os.getenv('OPENAI_GPT4_TURBO_ENGINE')"
   ]
  },
  {
   "cell_type": "code",
   "execution_count": 2,
   "metadata": {},
   "outputs": [],
   "source": [
    "from langchain_community.document_loaders import TextLoader\n",
    "text = 'Ramilla-Mauritania-1.txt'\n",
    "loader = TextLoader(text)\n",
    "pages = loader.load()"
   ]
  },
  {
   "cell_type": "code",
   "execution_count": 3,
   "metadata": {},
   "outputs": [
    {
     "data": {
      "text/plain": [
       "1"
      ]
     },
     "execution_count": 3,
     "metadata": {},
     "output_type": "execute_result"
    }
   ],
   "source": [
    "len(pages)"
   ]
  },
  {
   "cell_type": "code",
   "execution_count": 5,
   "metadata": {},
   "outputs": [
    {
     "data": {
      "text/plain": [
       "'Primeras impresiones de la capital\\nBuenos días desde mauritania amigos estoy en Newark Shot la capital la razón principal de venir a este país es\\nrecorrer el tren del desierto el tren del Sáhara Pero bueno eso será el próximo vídeo y en este vídeo vamos a\\nexplorar la capital y explorar un poco el país mientras vamos de camino hasta su edad que es donde empezará el tren no\\nsé nada de este país sé que es uno de los menos visitados de África y del mundo Así que a ver qué nos encontramos\\nPues nada que empiece la exploración Aquí estoy con Mohamed es mi día aquí en\\nmauritania y sí mauritano todavía tiene 25 años dos más que yo\\ntaxis Texas\\nparece que básicamente es ir preguntando a ver quién te quiere llevar\\nUy como apretado esto\\nvamos a ir apretandose 2 3 4 5 7 personas aquí\\nCómo está la puerta del coche estamos en el centro pues sí sí se ve un poco caótico\\nme ha dicho también que ese tipo de edificios son los más altos de aquí no\\nhay edificios más altos o rascacielos no hay ninguno [ __ ]\\nloca taxis India en India\\nBueno aquí tengo que dar el cante a Kilómetros pero sorprendentemente no me está molestando a la gente me miran ya\\npero sin acoso Está interesante el sitio eh\\nsoundcraft todos estos hecho a mano\\nMira estamos en mitad del mercado central de la ciudad y parece que esté andando por la playa tú la cantidad de\\narena que hay Pero aquí están construyendo otro par de edificios grandes grandes\\nPues a saber en 10 años la pinta que tienen WhatsApp\\nMira esta es la bandera de mauritania esto es igual que\\nen Barcelona tú Aquí también están preparados para echar a correr cuando viene la policía ni siquiera Aquí les\\ndejan vender tranquilos\\npues la mayoría de sus vendedores ambulantes macho que suelen ser senegaleses y esas niñas pidiendo dinero\\ninmigrantes de Mali Mira mira mira mira como está de arena yo no sé ni cómo\\npueden conducir los coches por aquí en verdad A ver matrícula mauritana interesante una cosa Viene un vídeo de\\nclavero clavero dijo que la mayoría de los coches eran Mercedes Yo hasta ahora tengo que discrepar yo estoy viendo de\\ntodo pero sobre todo Toyota Toyota Toyota Toyota Toyota Toyota otro Toyota\\notro Toyota otro Toyota aquí si hay un Mercedes Toyota\\neste edificio son los la sede de la de la empresa minera la que opera el tren\\ndel desierto y cita mauritania en Company or foreiner Company okay\\ny mira aparte de un par de calles todo el resto literalmente tierra arena grava\\npiedras curioso [ __ ] y ahí se ve un barrio bastante pobre me parece Wow las cabras por todos\\nlados un tío meando ahí en España también puede pasar eso Mira y este otro\\nedificio moderno es como no un banco\\ny aquí en las aceras te venden Prácticamente todo lo que quieras pasaportes o algo llaveros comida\\ncallejera ropa pero ninguno de estos les dejan estar aquí se me ha dicho cuando\\nviene la policía tienen que recoger todo corriendo también lo que pasa que esto no es tan fácil de\\nempacar como los manteles de zapatillas o de camisetas o lo que sea pues nada la\\nmisión actual es un sitio donde comer algo así tradicional mauritano a ver\\ncreo que está por aquí en medio del mercado el puesto de comida aquí empiezan los puestos de comida callejera\\nahí te mauritano aquí carne a la brasa Uy qué buena pinta tiene todo esto buah\\npollito asado Qué rico [ __ ] aquí es donde come todo el mundo Incluso el\\nrestaurante local\\nno What is your favorite Food from gratis\\nPues mira arrocito con verduras en daimaker Justin\\n[Música] ostias están muy bueno eh\\ncuatro o cinco personas comiendo ahora estamos y nada una hora y media por el plato de\\narroz gigante para dos personas que ya lo tengo ni hambre casi no está nada mal Wow Pues sí que está buena esa comida eh\\nes una locura también la cantidad de gente y tráfico y coches y de todo que\\nhay estamos en equipo\\npues ya veis la mitad de todo el país vive aquí la ciudad inicialmente estaba\\npensada para alojar a 8.000 personas pero debido a una sequía severas en los años 70 y 80 muchas familias de nómadas\\ndel desierto se vieron forzadas a trasladarse a la ciudad es que es todo desierto el resto del país entonces\\ndifícil vivir ahí le he preguntado si había un parque a quien no me ha dicho\\nque es esto yo creo que la Plaza Central de la ciudad me ha dicho que aquí por las noches ya cuando hace menos calor\\ncomo a partir de las 8 así se llena de gente traen sus alfombras té y tal\\njuegan los niños por aquí parece que alrededor de todo esto son todo edificios administrativos casa al\\npresidente El Banco Central cámara de comercio industria y agricultura\\nconsejo constitucional Ministerio de interior el senado [ __ ] Eh bueno ya\\nestamos en algunas calles un poco más tranquilas la basura me da una pena tío pero es increíble tío es un descontrol\\nno he visto ninguna papelera todavía incluso vivíamos a ver antes se terminó\\nla lotería de agua de plástico a la calle qué le vamos a hacer de Pipo la tuerca construccional\\n[Música]\\nhemos encontrado un cafecito café tunecino [ __ ] tiene buena pinta esto\\n[Música] por lo que he entendido creía que era como no sé frutas del Bosque frambuesa\\nalguna cosa así pero no es como una cosa que tienen los árboles y cuando la hierves con agua coge este color Y\\ndespués obviamente eran frías y hacen granizado porque era como un granizado no termino de entender que es pero Está\\nincreíble tan tan bueno está que me pedía otro entero hemos vuelto eso es\\nbien temprano son las cuatro o así así que a descansar un poco a recuperar fuerzas y mañana vamos a ir a la playa\\nte dicen que está muy Guay vamos a ir al puerto de pesca vamos a ir al mercado de camellos y después empezaremos a\\nexplorar el interior del país también así que nos vemos mañana empieza el segundo día\\nmauritania voy a aprovechar para enseñaros rápidamente el Hostal donde me estoy quedando se mira aquí es el patio\\nde entrada como la terracita par de banquitos aquí para comer y tal aquí se\\nentra Esta es la recepción estas recepcionista durmiendo estás la\\nplanta baja son todo habitaciones una cocina un baño\\nestá aceptable aunque no hay papel higiénico mi cuarto nos está muy muy\\ntope tengo un cuarto que entras casi familiar para mí solo y lo mejor es eso\\nde ahí el [ __ ] aire acondicionado me estás hablando la estancia y después tiene otra terraza chula el oster está\\nmuy Guay estoy si no fuera por el calor que hace aquí fuera en la gloria se está\\naquí Ese es el hostel vamos a desayunar y vamos a explorar\\nde vuelta en el caos Mira los buses públicos de mauritania no van ni una\\nNos dirigimos al puerto\\npersona cristales rotos y todo en este coche vamos a ir al puerto\\npero en Marruecos nos subimos cuatro atrás y no había problema y aquí aquí no\\npues aquí estamos en el puerto de pesca de Nueva York no es el puerto más\\nimportante en Dual shock pero es como el puerto donde todo el mundo viene a comprar pescado creo tengo un poco de\\nmiedo en verdad por mi olfato yo creo que me va a tocar sufrir un rato voy\\nalgunos peces gordos eh aquí madre de Dios [ __ ]\\nno sé qué es esto que has mirado el agua de aquí tú mira esta cómo\\nestás tan negra negra negra Negra este edificio es como creo que de una compañía oficial y lo que hacen es\\ncomprar el pescado directamente a Los Pescadores pero ya luego lo procesan adentro y todo bien entonces adentro no\\nse puede entrar la verdad que esta playa en verdad pero no hay nadie bañándose aquí ves hay\\nmuchísimos barcos de pesca que aparcados después otros tantos aquí en la orilla\\nlas redes la gente en la sombra obviamente [ __ ] un barco que parece que acaba de\\nvolver de pescar y el mulo esperando a ser cargado no me da tiempo a procesarlo\\ntodo [ __ ] tú Mira esto os acordáis de los camiones de Pakistán Pues aquí es lo\\nmismo con las barcas tú Mira como las pintan y las decoran Qué guapo y aquí\\nalguna de estas barcas gigantes también coloreadas yo no sé ni como las meten y las sacan del mar\\npero es que de verdad es que flipo con las barcas estás tú cuánta gente se va\\nse monta en esto para salir a pescar How many people going this bigbox\\n360 las cosas de mauritania son muy ricas en vida Marina por lo que la pesca es una\\nde las principales actividades económicas del país junto con las extracciones de hierro que son las que transporta el famoso tren del desierto y\\nrepresentan la mitad de las exportaciones del país recientemente se ha empezado a extraer también petróleo y\\ngas natural Aunque Estas actividades Aún se encuentran en fase de desarrollo también me está costando grabar más de lo que creía aquí porque estabas\\nbastante tranquilos un poco a nuestro rollo pero donde hay mucha gente cada poco rato Hay alguno Que dice que no\\ngrabe que esconda la cámara que lo que sea sea realmente hay mucha gente que no les hace gracia que les dará no termino\\nde entender por qué abarcada y acaba de salir y esto es justo la están remolcando para dentro\\nusan las como cosas de estas así como de ruedas y después entre todos empujan y las sacan por fuera a Fuerza bruta es\\nsin máquinas ni nada tú ostia la de aquí es una cadena humana sacando las redes\\nimagino que imagino que llenas de pescado\\nya habéis visto otro que no quería que grabara\\naquí reparan los barcos las redes y todo Esos son los talleres de los barcos\\nQué locura la de restos de pescado que hay aquí en el suelo Pero bueno lo pueden usar luego como cebo para para\\nlas futuras frescas Qué locura de gente que hay aquí es\\ncuando llegan un par de barcos de pesca en What time people Store\\n[Música] otra Barca que acabo de llegar y ahí van\\ntoda la gente con los chubasqueros y las cajas a sacar pescado Ah no perdón\\nmauritania fue el último país del mundo en prohibir la esclavitud fue abolida en 1981 pero no se ha considerado un delito\\nhasta 2007 y a pesar de todo varios medios internacionales denuncian que aunque no de forma tan obvia la\\nesclavitud aún existe y tan solo un antiguo dueño de esclavos ha sido condenado hasta ahora además en\\nmauritania aún existe un racismo estructural bastante tangible hay tres grupos étnicos principales los moros\\nblancos de Irán que son los que tienen apariencia magrebí y la piel más clara y son descendientes de árabes y bereberes\\ndespués están los jaratín los moros negros que son descendientes de los Esclavos negros que vivieron en el\\nmagreb y después están los grupos étnicos subsaharianos en general los grupos negros son tratados como\\nciudadanos de segunda clase tienen salarios más bajos y también los trabajos menos cualificados Pescadores\\nlimpiadores vendedores ambulantes constructores y yo pienso Tal vez tal\\nvez esta pueda ser la razón de que muchas personas especialmente negras tengan tal rechazo hacia las cámaras\\ncomo me dijo un amigo es posible que vean un blanco con cámara como alguien que viene a mofarse de ellos y se\\nsienten avergonzados o les incómoda que puedan ser vistos por mucha gente están ahí todo paralelos y cada vez que viene\\nuna ola casi que les tumba el barco prácticamente\\npero viene bien cargado de pescado eh [ __ ] la descarga y ahí dentro Bueno yo\\ncreo que es suficiente puerto de pesca suficiente playa por ahora hemos visto lo que tenemos que ver y literal hace un\\ncalor que no se puede estar me va a dar algo así que vamos a por lo siguiente yo creo que mercado de camellos\\nes que lo loco de esta temperatura es que Bueno aparte de que es octubre y hace 35 grados estamos al lado de la\\nplaya y hace 35ºc\\nlos lugares más fríos de mauritania maravilloso hombre hablando de\\ntransporte público yo creo que en mauritanio lo que hay que hacer es cobrar un tuc tuc\\n[Música] pero hay que agarrarse bien\\nsu gran Necesito un poco de sombra comer un poco antes de poder seguir estoy destruido\\nestá haciendo pedazos el calor amigos acabo de descubrir De qué está\\nhecho el pizzapp veis está hecho de queso flores de hibiscus y con eso hacen\\neso buah misterio revelado están buenísimo típico el mauritania en Juda\\npara quien diga que no se puede comer normal en mauritania [Aplausos]\\npequeño Cambio de planes vamos a ir al hostel a descansar un poco un par de\\nhoritas una siestecita y después ya para la tarde Vamos al mercado este de\\ncamellos es que si no te lo digo me voy a morir eh\\n[ __ ] qué alegría llegar aquí de nuevo esa de ahí es la Embajada de Estados\\nEl mercado de camellos\\nUnidos Pero has aprendido español en mauritania\\ncon turistas\\n[Música] no se quería subir al taxi para no\\nsentarse al lado de esta chica que es una mujer que no es\\nsu mujer Adiós amigo Gracias\\nAy Ay Ay Ay otra vez luchando por mi vida aquí invitada a las calles\\n[ __ ] qué sitio tú qué locura esto no parece un peregrinaje de coches y de\\ntodo aquí pero sí que es verdad hay mogollón mogollón de tu tutaxis mogollón\\nde coches y mogollón de autobuses también por aquí creo que es como el todas direcciones de aquí de O sea desde\\naquí puede salen muchas carreteras a otros pueblos ciudades o lo que sea de\\nlas cercanías\\n[Música]\\nque lo que hemos visto hasta ahora es la zona buena en Nueva York y la gente pobre la gran mayoría de la población\\nvive de aquí para allí según donde mires entre el 30 y el 40% de la población\\nvive bajo el umbral de la pobreza muchos de ellos viven en barrios hipertensamente poblados que quedan un\\npoco más lejos del centro pero para hacerse una idea todo lo que vimos de noachot son los barrios buenos de la\\nciudad\\nes el mercado de cabras y al lado en cualquier momento tendríamos que estar en el mercado de camellos\\nme cago en la [ __ ] Wow No sé si estoy listo para esto eh adiós\\nestaban despellejando una cabra ahí normalmente\\n[Música]\\n[Música]\\nintestino será lo que vendían ahí había una de moscas no salga la cámara Porque la gente no le Mola no sé si habéis\\nllegado a ver algo pero cuánta gente vive aquí también Estos son casas esto de aquí\\nmira mira los camellos tú normalmente esto estaría lleno lleno lleno de camellos por todo pero creo que es\\nporque ha llovido bastante y ha crecido hierba en otras partes del país se los han llevado a pastar por ahí y también\\nporque se nos ha hecho tarde ya han guardado muchos en el establo pero aquí tenéis los camellos se comían pulgar\\nnormal\\n[Música]\\nes que normalmente todo esto estaría lleno de camellos Como esos tío Pero nada no hemos tenido suerte al menos\\nhemos visto algunos pero para que no os quedéis con las ganas de verlo así es como se ve el mercado de camellos Estos\\nson imágenes que he encontrado en internet o que me han pasado algunos amigos que sí lo visitaron Y la verdad es que parece una locura\\nde repente escuchamos que alguien nos gritaba vimos a estos tres chavales diciéndonos que nos esperáramos mientras\\ncaminaban hacia nosotros simplemente querían saludar hablar un poco y hacerse una foto [ __ ] qué majos esos tres\\ndeben de ser las primeras tres personas que realmente les gusta ver una cámara y que piden echarse una foto y bueno ya se\\nestá haciendo de noche Ya vamos a ir volviendo de nuevo al centro de la ciudad una decepción lo de los camellos Pero igualmente está muy guapo todo esto\\nde las cabras y las ovejas es una paranoia Igualmente el mercado pero no he visto nada Así igual\\nostió con la mula parece estar como trayendo agua a las casas somos besos\\n[Música] parece que de ahí es el pozo donde salen todas las mulas con los bidones de agua\\npara las casas vuestras calles ya flipas Eh Esto ya no tiene nada que ver con el\\ncentro eh otro otro más este tamaño xxl un\\nfamiliar aquí si apuras pueden ir 3 6 9 10 11 personas\\nno es para radio una gasolinera voy a probar que antes no mirar los precios Forty Nine Fifty guía for little\\nEntonces si 37 bujías son un euro las 50 serán un euro 40 alguna cosa así\\nestá bien pensado parecido una curva de repente se ha agarrado y ahí sigue y\\nle estamos haciendo otro trabajo de vuelta en el hoster a descansar suficiente capital suficiente ciudad\\nMañana salimos bien temprano vamos al interior del país Ahora toca ver más los\\npueblitos un poco la vida más rural mitad del Desierto de este país va a ser\\notro rollo totalmente distinto pero que hay que conocer también así que hasta mañana\\nCamino hacia Atar\\nbuenos días Aquí estamos ya las afueras de Nueva York Aquí estos son todas las\\nagencias de viaje y de aquí salen todos estos son los furgonetas las autobuses que van a distintas partes de mauritania\\nAsí que eso hoy vamos a explorar un poco el interior del país vamos hacia atar la zona más bonita o turística mauritania\\nEso sí son seis horas de furgoneta como esta y en caminos como este\\nasí son las oficinas de una empresa de transportes en mauritania Esta es la furgoneta con la que vamos a\\nviajar y las maletas y el equipaje todo aquí arriba\\nno llevamos ni cinco minutos y ya estamos rodeados de dudas y primer checkpoint también\\nmira ahora las dunas se han convertido en una estepa seca infinita\\nestuviéramos en Concordia\\nbuah tres horas llevamos yo ya creía que no íbamos a hacer ninguna parada tú tres horas hay mitad del desierto viendo el\\nmismo paisaje todo el rato y no había nada absolutamente\\nes el baño más asqueroso en el que estaba eh hace un calor aquí también que te mueres\\nse pega el sol de una manera descarada es peor que ayer en absoluto en la playa\\nestamos entrando ya al Desierto amigo lo mejor es que esta carretera aquí\\ndonde la veis las carreteras más importantes del país literalmente unen la capital con la\\ntercera ciudad más importante del país posiblemente o sea las autovías de mauritania son esto pero\\nmira algo de verde también hay eh o sea no es todo todo todo seco pero es verdad que me han dicho que es bastante más\\nverde de lo normal que ha llovido bastante hacer relativamente poco y que normalmente no\\nestás bonito verdad de las primeras cosas que te das cuenta\\nal moverte por mauritania es de la cantidad de controles policiales o militares que hay en todas las\\ncarreteras a la entrada de casi Cada pueblo en cada cruce o desvío importante y en todos ellos los extranjeros tenemos\\nque registrarnos y dejar una fotocopia del pasaporte si miras las recomendaciones de viajes de varios gobiernos consideran mauritania un país\\narriesgado para viajar especialmente el este del país Esto se debe a que mauritania es parte del sahel una de las\\nregiones más complicadas del mundo y ha sido objetivo de atentados terroristas además de bandidos traficantes de droga\\ny personas que acabaron con la creciente industria turística hace varios años pero también hay que decir que el\\ndesempeño en seguridad desde entonces ha sido muy bueno y la cantidad de policía y Checkpoints en todas las carreteras\\nque a mí tanto me sorprendía son en realidad la causa de la estabilidad del país han conseguido que menos en algunas\\nzonas cerca de las fronteras con Mario Argelia mauritania sea un país seguro [Música]\\nBienvenidos a atar qué Calor hace Dios mío de hecho veis\\nesto 39 grados Necesito un turbante de esos pero ya si lo voy a acabar como un\\npollo este amigo se va a hacer el tren ahora lo va a pillar esta noche pero es de\\nchum No desde fuera el mismo tren que nosotros haremos en 5 o 6 días\\nme pone hasta de mal humor el [ __ ] calor este This is your home City\\nPues nada Eso vamos a casa de Mohamed a comer a ver cómo es una casita aquí en\\nel pueblo ermitaño también y a ver si recupero la vida un poco también estas\\nson con habitantes de los pueblos también igual que los humanos dio un amigo\\nsi hay 100.000 habitantes en atar yo creo que 50.000 son cabras\\nllegamos [ __ ] vale Mohamed nos va a hacer un\\ntour de su casa para que podamos ver cómo es una una casa tradicional aquí en mauritania\\nCómo es una casa en Mauritania?\\nÁngel\\nAh okay Okay gracias [Música]\\nOh Wow [ __ ] this nice oye muy guapo en la vista de\\natar por aquí y ya cuando baja la temperatura esta tarde se está mucho mejor\\n[Música]\\nnació Cristiano están súper\\nbien\\n[Música]\\npues está realmente interesante esta zona común y la de aquí fuera es la\\n[ __ ] la invitarme a comer con la familia de Mohamed su hermana su abuela su tío su prima y sus sobrinos nos\\nsentamos en el suelo y comimos con las manos de un gran plato central que todos compartimos el primero de la carne de\\ncordero con algo de cebolla y el segundo era como no arroz No es tan fácil comer con las manos eh tiene su técnica que me\\nestuvo tratando de enseñar el tío de Mohamed Y la verdad es que fue bastante incómodo soy thankshowing\\nEncontramos un Oasis\\n[Música]\\nmira estos dos almacenes de aquí que vienen de que está ahí abajo a Suzuki\\nprobé del agua potable a toda la ciudad de atar que está ahí al fondo nos dice cogen el agua al almacenan aquí y\\ndespués todas estas tuberías que veníamos viendo por la carretera son las tuberías que transportar el agua potable\\nhasta ya está la ciudad de atar Y es que mira tú De repente llegas aquí y hay\\nárboles hay vegetación llevo todo el día sin ver casi nada es que al parecer azuki El Pueblito este es como una zona\\nno sé hay un Oasis por aquí me parece y me acaba de decir que veis este postre de electricidad\\nPues lleva un año aquí o sea justamente hasta hace un año No tenía electricidad\\nahora tienen electricidad tienes luz en aire acondicionado tiene todas esas cosas hace un año no tenían What Time Of\\nThe activities People Candy y notar a su dior Adrián\\nperfecto\\nEs una de las importantes que obviamente puedes hacer aquí también está un bien\\ncuriosas estas tiendas eh las casas de aquí\\nBueno está ya no está en buen estado pero hay varias de esas campañitas así como semicirculares de cañas paja y tal\\nMirad Este es el ejemplo perfecto y Esas son las que os he dicho yo sigo diciendo paja pero son están hechas con restos de\\npalmeras que es el árbol que abunda por aquí y en mauritania hay muchas palmeras\\ntantas es típico típico mauritania sobre todo del Norte ahí hay otro también que\\nestá caída pero aquí Bueno ahora no se ve bien Hay una que está en buen estado y después\\nmira esa casa tío entera de caña y paja\\notra vaina aquí\\nme encanta este pueblo lo mejor que he visto es de mauritania hasta ahora\\nEsto sí es mauritania rural rural de verdad\\nbuen contraste con noah\\nMira veis palmeras hojas de palmera seca Y esto es para las bayas para los\\ntejados de las casas para todo estoy bien toda la pinta de que hubiera\\nbajado una riada Hace poco tú no sé si será posible o me he fumado cuatro\\nporros No yo tengo definitivamente estoy en lo cierto por aquí ha bajado mucha\\nagua hace poco 100% de hecho mirar cómo está la tierra por aquí y aquí está\\nAmigas y amigos el río el río causante de toda esta fertilidad\\nya Oh Wow [ __ ] tú esto son pinturas rupestres tú\\nson batty\\nsu nuevo disco\\nfuerte y está literalmente aquí puede hacer cualquier persona al aire libre y\\nahí está tú\\nBueno una cosa es que ya haya llegado a la electricidad al pueblo y otra cosa es que funcione de las 10 farolas que\\ntendría la vista funcionan una y dos hay a lo lejos\\nno pero realmente muy muy muy muy pocas luces se ven y muy pocas viviendas se\\nven con luz o no sé si es que muchas directamente no están habitadas O no son viviendas en sí o son estables o lo que\\nsea pero muy pocas luces veo Bueno amigos Y hasta aquí nuestra pequeña Aventura azubiana ya hemos visto la vida\\nde la ciudad de mauritania y la vida rural de mauritania para el primer vídeo de descubrimiento del país Yo creo que\\nestá bastante Guay los próximos días seguimos camino hacia su edad donde vamos a pillar el tren del Sáhara el\\ntren de hierro y Bueno espero que os haya gustado y nos vemos en el próximo vídeo'"
      ]
     },
     "execution_count": 5,
     "metadata": {},
     "output_type": "execute_result"
    }
   ],
   "source": [
    "x = pages[0].page_content\n",
    "x"
   ]
  },
  {
   "cell_type": "code",
   "execution_count": 6,
   "metadata": {},
   "outputs": [
    {
     "data": {
      "text/plain": [
       "23190"
      ]
     },
     "execution_count": 6,
     "metadata": {},
     "output_type": "execute_result"
    }
   ],
   "source": [
    "len(x)"
   ]
  },
  {
   "cell_type": "code",
   "execution_count": 7,
   "metadata": {},
   "outputs": [],
   "source": [
    "client = AzureOpenAI(\n",
    "    azure_endpoint= AZURE_OPENAI_ENDPOINT_GPT,\n",
    "    api_version = '2024-02-15-preview',\n",
    "    api_key = AZURE_OPENAI_API_KEY\n",
    ")\n",
    "\n",
    "def get_completion(prompt):\n",
    "    messages = [\n",
    "                {\n",
    "                    \"role\": \"user\", \n",
    "                    \"content\": prompt\n",
    "                }\n",
    "               ]\n",
    "    response = client.chat.completions.create(\n",
    "        model = 'gpt-4o',\n",
    "        frequency_penalty=0.1,\n",
    "        temperature=0,\n",
    "        seed=5,\n",
    "        max_tokens=4092,\n",
    "        messages = messages\n",
    "    )\n",
    "    \n",
    "    return response.choices[0].message.content"
   ]
  },
  {
   "cell_type": "code",
   "execution_count": 40,
   "metadata": {},
   "outputs": [],
   "source": [
    "prompt = f\"Basandonos en este texto: '''{x}''' crea un resumen con los datos más interesantes y llamativos de Mauritania,\\\n",
    " los sitios que se ven el el vídeo y las diferentes actividades que se realizan (El pais del cual trata el video)\\\n",
    "    el output debe ser un dict (no pongas python).\\\n",
    "    donde cada dato interesante es una key-value \""
   ]
  },
  {
   "cell_type": "code",
   "execution_count": 41,
   "metadata": {},
   "outputs": [
    {
     "data": {
      "text/plain": [
       "'{\\n    \"Capital\": \"Nouakchott es la capital de Mauritania, una ciudad caótica con un mercado central lleno de arena y edificios en construcción.\",\\n    \"Transporte\": \"El transporte en Nouakchott es principalmente a través de taxis compartidos y autobuses públicos en mal estado. Los coches más comunes son Toyota.\",\\n    \"Mercado Central\": \"El mercado central está lleno de vendedores ambulantes, muchos de ellos inmigrantes de Senegal y Mali, que deben recoger sus cosas rápidamente cuando llega la policía.\",\\n    \"Comida\": \"La comida tradicional incluye arroz con verduras y carne a la brasa. También se destaca una bebida hecha de flores de hibiscus.\",\\n    \"Puerto de Pesca\": \"El puerto de pesca es un lugar caótico con barcos decorados y una gran actividad económica basada en la pesca.\",\\n    \"Esclavitud\": \"Mauritania fue el último país en abolir la esclavitud en 1981, pero aún existen problemas de racismo estructural.\",\\n    \"Grupos Étnicos\": \"Los principales grupos étnicos son los moros blancos, los moros negros y los grupos subsaharianos, con diferencias significativas en el trato y oportunidades.\",\\n    \"Seguridad\": \"El país tiene muchos controles policiales debido a su ubicación en el Sahel, una región complicada por el terrorismo y el tráfico ilegal.\",\\n    \"Atar\": \"Atar es una ciudad en el interior del país, conocida por su calor extremo y su proximidad a zonas desérticas.\",\\n    \"Oasis de Azougui\": \"Azougui es un oasis cerca de Atar, con vegetación y palmeras, y recientemente ha recibido electricidad.\",\\n    \"Pinturas Rupestres\": \"En Azougui se pueden encontrar pinturas rupestres al aire libre, accesibles para cualquier visitante.\",\\n    \"Economía\": \"La economía de Mauritania se basa en la pesca y la extracción de hierro, petróleo y gas natural.\"\\n}'"
      ]
     },
     "execution_count": 41,
     "metadata": {},
     "output_type": "execute_result"
    }
   ],
   "source": [
    "response = get_completion(prompt)\n",
    "response"
   ]
  },
  {
   "cell_type": "code",
   "execution_count": 42,
   "metadata": {},
   "outputs": [
    {
     "name": "stdout",
     "output_type": "stream",
     "text": [
      "{\n",
      "    \"Capital\": \"Nouakchott es la capital de Mauritania, una ciudad caótica con un mercado central lleno de arena y edificios en construcción.\",\n",
      "    \"Transporte\": \"El transporte en Nouakchott es principalmente a través de taxis compartidos y autobuses públicos en mal estado. Los coches más comunes son Toyota.\",\n",
      "    \"Mercado Central\": \"El mercado central está lleno de vendedores ambulantes, muchos de ellos inmigrantes de Senegal y Mali, que deben recoger sus cosas rápidamente cuando llega la policía.\",\n",
      "    \"Comida\": \"La comida tradicional incluye arroz con verduras y carne a la brasa. También se destaca una bebida hecha de flores de hibiscus.\",\n",
      "    \"Puerto de Pesca\": \"El puerto de pesca es un lugar caótico con barcos decorados y una gran actividad económica basada en la pesca.\",\n",
      "    \"Esclavitud\": \"Mauritania fue el último país en abolir la esclavitud en 1981, pero aún existen problemas de racismo estructural.\",\n",
      "    \"Grupos Étnicos\": \"Los principales grupos étnicos son los moros blancos, los moros negros y los grupos subsaharianos, con diferencias significativas en el trato y oportunidades.\",\n",
      "    \"Seguridad\": \"El país tiene muchos controles policiales debido a su ubicación en el Sahel, una región complicada por el terrorismo y el tráfico ilegal.\",\n",
      "    \"Atar\": \"Atar es una ciudad en el interior del país, conocida por su calor extremo y su proximidad a zonas desérticas.\",\n",
      "    \"Oasis de Azougui\": \"Azougui es un oasis cerca de Atar, con vegetación y palmeras, y recientemente ha recibido electricidad.\",\n",
      "    \"Pinturas Rupestres\": \"En Azougui se pueden encontrar pinturas rupestres al aire libre, accesibles para cualquier visitante.\",\n",
      "    \"Economía\": \"La economía de Mauritania se basa en la pesca y la extracción de hierro, petróleo y gas natural.\"\n",
      "}\n"
     ]
    }
   ],
   "source": [
    "print(response)"
   ]
  },
  {
   "cell_type": "code",
   "execution_count": 43,
   "metadata": {},
   "outputs": [
    {
     "name": "stdout",
     "output_type": "stream",
     "text": [
      "{\n",
      "  \"Capital\": \"Nouakchott es la capital de Mauritania, una ciudad caótica con un mercado central lleno de arena y edificios en construcción.\",\n",
      "  \"Transporte\": \"El transporte en Nouakchott es principalmente a través de taxis compartidos y autobuses públicos en mal estado. Los coches más comunes son Toyota.\",\n",
      "  \"Mercado Central\": \"El mercado central está lleno de vendedores ambulantes, muchos de ellos inmigrantes de Senegal y Mali, que deben recoger sus cosas rápidamente cuando llega la policía.\",\n",
      "  \"Comida\": \"La comida tradicional incluye arroz con verduras y carne a la brasa. También se destaca una bebida hecha de flores de hibiscus.\",\n",
      "  \"Puerto de Pesca\": \"El puerto de pesca es un lugar caótico con barcos decorados y una gran actividad económica basada en la pesca.\",\n",
      "  \"Esclavitud\": \"Mauritania fue el último país en abolir la esclavitud en 1981, pero aún existen problemas de racismo estructural.\",\n",
      "  \"Grupos Étnicos\": \"Los principales grupos étnicos son los moros blancos, los moros negros y los grupos subsaharianos, con diferencias significativas en el trato y oportunidades.\",\n",
      "  \"Seguridad\": \"El país tiene muchos controles policiales debido a su ubicación en el Sahel, una región complicada por el terrorismo y el tráfico ilegal.\",\n",
      "  \"Atar\": \"Atar es una ciudad en el interior del país, conocida por su calor extremo y su proximidad a zonas desérticas.\",\n",
      "  \"Oasis de Azougui\": \"Azougui es un oasis cerca de Atar, con vegetación y palmeras, y recientemente ha recibido electricidad.\",\n",
      "  \"Pinturas Rupestres\": \"En Azougui se pueden encontrar pinturas rupestres al aire libre, accesibles para cualquier visitante.\",\n",
      "  \"Economía\": \"La economía de Mauritania se basa en la pesca y la extracción de hierro, petróleo y gas natural.\"\n",
      "}\n"
     ]
    }
   ],
   "source": [
    "import json\n",
    "\n",
    "# Load the corrected JSON string to verify it's valid\n",
    "data = json.loads(response)\n",
    "\n",
    "# Print the corrected JSON\n",
    "print(json.dumps(data, indent=2, ensure_ascii=False))"
   ]
  },
  {
   "cell_type": "code",
   "execution_count": 20,
   "metadata": {},
   "outputs": [],
   "source": [
    "#! pip install python-docx"
   ]
  },
  {
   "cell_type": "code",
   "execution_count": 52,
   "metadata": {},
   "outputs": [
    {
     "name": "stdout",
     "output_type": "stream",
     "text": [
      "Nouakchott es la capital de Mauritania, una ciudad caótica con un mercado central lleno de arena y edificios en construcción.\n",
      "El transporte en Nouakchott es principalmente a través de taxis compartidos y autobuses públicos en mal estado. Los coches más comunes son Toyota.\n",
      "El mercado central está lleno de vendedores ambulantes, muchos de ellos inmigrantes de Senegal y Mali, que deben recoger sus cosas rápidamente cuando llega la policía.\n",
      "La comida tradicional incluye arroz con verduras y carne a la brasa. También se destaca una bebida hecha de flores de hibiscus.\n",
      "El puerto de pesca es un lugar caótico con barcos decorados y una gran actividad económica basada en la pesca.\n",
      "Mauritania fue el último país en abolir la esclavitud en 1981, pero aún existen problemas de racismo estructural.\n",
      "Los principales grupos étnicos son los moros blancos, los moros negros y los grupos subsaharianos, con diferencias significativas en el trato y oportunidades.\n",
      "El país tiene muchos controles policiales debido a su ubicación en el Sahel, una región complicada por el terrorismo y el tráfico ilegal.\n",
      "Atar es una ciudad en el interior del país, conocida por su calor extremo y su proximidad a zonas desérticas.\n",
      "Azougui es un oasis cerca de Atar, con vegetación y palmeras, y recientemente ha recibido electricidad.\n",
      "En Azougui se pueden encontrar pinturas rupestres al aire libre, accesibles para cualquier visitante.\n",
      "La economía de Mauritania se basa en la pesca y la extracción de hierro, petróleo y gas natural.\n"
     ]
    }
   ],
   "source": [
    "for i in list(data.keys()):\n",
    "    print(data[i])"
   ]
  },
  {
   "cell_type": "code",
   "execution_count": 54,
   "metadata": {},
   "outputs": [
    {
     "name": "stderr",
     "output_type": "stream",
     "text": [
      "/home/zeus/miniconda3/envs/cloudspace/lib/python3.10/site-packages/docx/styles/styles.py:130: UserWarning: style lookup by style_id is deprecated. Use style name as key instead.\n",
      "  return self._get_style_id_from_style(self[style_name], style_type)\n"
     ]
    }
   ],
   "source": [
    "from docx import Document\n",
    "\n",
    "# Create a new Document\n",
    "doc = Document()\n",
    "\n",
    "# Add a title\n",
    "doc.add_heading('Ramilla de Aventuras Mauritania.', level=1)\n",
    "\n",
    "# Add a paragraph\n",
    "doc.add_paragraph('Resumen del video.')\n",
    "\n",
    "for i in list(data.keys()):\n",
    "# Add a bullet point list\n",
    "    doc.add_paragraph(data[i], style='ListBullet')\n",
    "\n",
    "\n",
    "# Save the document\n",
    "doc.save('Ramilla_mauritania.docx')"
   ]
  },
  {
   "cell_type": "code",
   "execution_count": 22,
   "metadata": {},
   "outputs": [
    {
     "name": "stderr",
     "output_type": "stream",
     "text": [
      "/home/zeus/miniconda3/envs/cloudspace/lib/python3.10/site-packages/docx/styles/styles.py:130: UserWarning: style lookup by style_id is deprecated. Use style name as key instead.\n",
      "  return self._get_style_id_from_style(self[style_name], style_type)\n"
     ]
    }
   ],
   "source": [
    "from docx import Document\n",
    "\n",
    "# Create a new Document\n",
    "doc = Document()\n",
    "\n",
    "# Add a title\n",
    "doc.add_heading('Ramilla de Aventuras Mauritania.', level=1)\n",
    "\n",
    "# Add a paragraph\n",
    "doc.add_paragraph('Resumen del video.')\n",
    "\n",
    "# Add a bullet point list\n",
    "doc.add_paragraph('First item', style='ListBullet')\n",
    "doc.add_paragraph('Second item', style='ListBullet')\n",
    "\n",
    "# Save the document\n",
    "doc.save('my_document.docx')"
   ]
  }
 ],
 "metadata": {
  "language_info": {
   "name": "python"
  }
 },
 "nbformat": 4,
 "nbformat_minor": 2
}
